{
  "nbformat": 4,
  "nbformat_minor": 0,
  "metadata": {
    "colab": {
      "provenance": [],
      "authorship_tag": "ABX9TyPze66aC8vwh683vmo+0EBc",
      "include_colab_link": true
    },
    "kernelspec": {
      "name": "python3",
      "display_name": "Python 3"
    },
    "language_info": {
      "name": "python"
    }
  },
  "cells": [
    {
      "cell_type": "markdown",
      "metadata": {
        "id": "view-in-github",
        "colab_type": "text"
      },
      "source": [
        "<a href=\"https://colab.research.google.com/github/apichatsc03/pyBasic/blob/main/Trainning1.ipynb\" target=\"_parent\"><img src=\"https://colab.research.google.com/assets/colab-badge.svg\" alt=\"Open In Colab\"/></a>"
      ]
    },
    {
      "cell_type": "markdown",
      "source": [
        "sample"
      ],
      "metadata": {
        "id": "2dVKL5Ja2SLR"
      }
    },
    {
      "cell_type": "code",
      "execution_count": null,
      "metadata": {
        "colab": {
          "base_uri": "https://localhost:8080/"
        },
        "id": "-v0uAWGsfcY2",
        "outputId": "5d12e0bb-650f-4541-962c-49a1944c179f"
      },
      "outputs": [
        {
          "output_type": "stream",
          "name": "stdout",
          "text": [
            "Training Py\n"
          ]
        }
      ],
      "source": [
        "s = \"Training Py\"\n",
        "print(s)"
      ]
    },
    {
      "cell_type": "code",
      "source": [
        "print(\"Hello world\")\n",
        "print(\"Python\")"
      ],
      "metadata": {
        "colab": {
          "base_uri": "https://localhost:8080/"
        },
        "id": "xLKy3svi2Zps",
        "outputId": "8e27c354-777c-4f55-ab7c-db67c0099f23"
      },
      "execution_count": null,
      "outputs": [
        {
          "output_type": "stream",
          "name": "stdout",
          "text": [
            "Hello world\n",
            "Python\n"
          ]
        }
      ]
    },
    {
      "cell_type": "code",
      "source": [
        "s=\"Training Py\"\n",
        "s=\"2 Week\"\n",
        "print(s)"
      ],
      "metadata": {
        "colab": {
          "base_uri": "https://localhost:8080/"
        },
        "id": "AI7neUGn4d5s",
        "outputId": "fc29b194-2e57-45b8-9f8e-b9ae3c517baf"
      },
      "execution_count": null,
      "outputs": [
        {
          "output_type": "stream",
          "name": "stdout",
          "text": [
            "2 Week\n"
          ]
        }
      ]
    },
    {
      "cell_type": "code",
      "source": [
        "s=\"Training Py\"\n",
        "c=\"39\"\n",
        "print(s, c)\n",
        "print(type(s), type(c))\n",
        "\n",
        "#convert value\n",
        "c=int(c)\n",
        "print(type(c))\n",
        "\n",
        "# error case\n",
        "# s=int(s)\n",
        "# print(type(s))"
      ],
      "metadata": {
        "colab": {
          "base_uri": "https://localhost:8080/",
          "height": 276
        },
        "id": "Juj8bSA85vQe",
        "outputId": "8638bc8f-f9a0-459b-b4ca-419cc8e1f18b"
      },
      "execution_count": null,
      "outputs": [
        {
          "output_type": "stream",
          "name": "stdout",
          "text": [
            "Training Py 39\n",
            "<class 'str'> <class 'str'>\n",
            "<class 'int'>\n"
          ]
        },
        {
          "output_type": "error",
          "ename": "ValueError",
          "evalue": "ignored",
          "traceback": [
            "\u001b[0;31m---------------------------------------------------------------------------\u001b[0m",
            "\u001b[0;31mValueError\u001b[0m                                Traceback (most recent call last)",
            "\u001b[0;32m<ipython-input-9-f3c9985e0d9d>\u001b[0m in \u001b[0;36m<module>\u001b[0;34m\u001b[0m\n\u001b[1;32m      7\u001b[0m \u001b[0mprint\u001b[0m\u001b[0;34m(\u001b[0m\u001b[0mtype\u001b[0m\u001b[0;34m(\u001b[0m\u001b[0mc\u001b[0m\u001b[0;34m)\u001b[0m\u001b[0;34m)\u001b[0m\u001b[0;34m\u001b[0m\u001b[0;34m\u001b[0m\u001b[0m\n\u001b[1;32m      8\u001b[0m \u001b[0;34m\u001b[0m\u001b[0m\n\u001b[0;32m----> 9\u001b[0;31m \u001b[0ms\u001b[0m\u001b[0;34m=\u001b[0m\u001b[0mint\u001b[0m\u001b[0;34m(\u001b[0m\u001b[0ms\u001b[0m\u001b[0;34m)\u001b[0m\u001b[0;34m\u001b[0m\u001b[0;34m\u001b[0m\u001b[0m\n\u001b[0m\u001b[1;32m     10\u001b[0m \u001b[0mprint\u001b[0m\u001b[0;34m(\u001b[0m\u001b[0mtype\u001b[0m\u001b[0;34m(\u001b[0m\u001b[0ms\u001b[0m\u001b[0;34m)\u001b[0m\u001b[0;34m)\u001b[0m\u001b[0;34m\u001b[0m\u001b[0;34m\u001b[0m\u001b[0m\n",
            "\u001b[0;31mValueError\u001b[0m: invalid literal for int() with base 10: 'Training Py'"
          ]
        }
      ]
    },
    {
      "cell_type": "markdown",
      "source": [
        "Assigment 1"
      ],
      "metadata": {
        "id": "sO067YUG-HZP"
      }
    },
    {
      "cell_type": "code",
      "source": [
        "print(\"1.\", 2+3)\n",
        "print(\"2.\", 2*3)\n",
        "print(\"3.\", (2+3)/4)\n",
        "print(\"4.\", 2**3)\n",
        "print(\"5.\", \"Hello\" + \"World\")\n",
        "print(\"6.\", \"HelloWorld\"*3)\n"
      ],
      "metadata": {
        "colab": {
          "base_uri": "https://localhost:8080/"
        },
        "id": "8z0uee_k-J68",
        "outputId": "8e7b285d-a0a3-4947-bda3-27f31a0ed7f1"
      },
      "execution_count": null,
      "outputs": [
        {
          "output_type": "stream",
          "name": "stdout",
          "text": [
            "1. 5\n",
            "2. 6\n",
            "3. 1.25\n",
            "4. 8\n",
            "5. HelloWorld\n",
            "6. HelloWorldHelloWorldHelloWorld\n"
          ]
        }
      ]
    },
    {
      "cell_type": "markdown",
      "source": [
        "Assingment 2"
      ],
      "metadata": {
        "id": "FZ-DaoK-D5vr"
      }
    },
    {
      "cell_type": "code",
      "source": [
        "i=\"a\"\n",
        "print(\"1.\", i == \"a\")\n",
        "j=2\n",
        "print(\"2.\", j < 3)\n",
        "k = 8\n",
        "z = 4\n",
        "print(\"3.\", k!=z)\n",
        "i=3\n",
        "j=2\n",
        "print(\"4.\", (i+j) >= 5)\n",
        "i=\"a\"\n",
        "print(\"5.\", i <= \"b\")\n",
        "\n",
        "print(\"6.\", \"ab\" <= \"aa\")"
      ],
      "metadata": {
        "colab": {
          "base_uri": "https://localhost:8080/"
        },
        "id": "J0nEAzHzD77J",
        "outputId": "d903f9a6-75b9-425c-9299-b0acb1aa8933"
      },
      "execution_count": null,
      "outputs": [
        {
          "output_type": "stream",
          "name": "stdout",
          "text": [
            "1. True\n",
            "2. True\n",
            "3. True\n",
            "4. True\n",
            "5. True\n",
            "6. False\n"
          ]
        }
      ]
    },
    {
      "cell_type": "markdown",
      "source": [
        "Assigment3"
      ],
      "metadata": {
        "id": "mKMGk29_LFjp"
      }
    },
    {
      "cell_type": "code",
      "source": [
        "i=\"a\"\n",
        "if i == \"a\":\n",
        "  print(\"1.\", True)\n",
        "\n",
        "j=2\n",
        "if j < 3:\n",
        "  print(\"2.\", True)\n",
        "\n",
        "k = 8\n",
        "z = 4\n",
        "if k!=z: \n",
        "  print(\"3.\", True)\n",
        "  \n",
        "i=3\n",
        "j=2\n",
        "if (i+j) >= 5:\n",
        "  print(\"4.\", True)\n",
        "\n",
        "i=\"a\"\n",
        "if i <= \"b\":\n",
        "  print(\"5.\", True)"
      ],
      "metadata": {
        "colab": {
          "base_uri": "https://localhost:8080/"
        },
        "id": "BmSAszUALFE4",
        "outputId": "c7d168b4-1dbd-4e15-88d5-2711d4fcf5f7"
      },
      "execution_count": null,
      "outputs": [
        {
          "output_type": "stream",
          "name": "stdout",
          "text": [
            "1. True!\n",
            "2. True!\n",
            "3. True!\n",
            "4. True!\n",
            "5. True!\n"
          ]
        }
      ]
    },
    {
      "cell_type": "markdown",
      "source": [
        "Assigment4"
      ],
      "metadata": {
        "id": "RYsm81tGMAN6"
      }
    },
    {
      "cell_type": "code",
      "source": [
        "i=float(input())\n",
        "if i > 3:\n",
        "  i = i+3\n",
        "  print(\"case 1. =\",i)\n",
        "elif i < 3:\n",
        "  if i > 1.5:\n",
        "    print(\"case 2. =\",i * 2)\n",
        "  else:\n",
        "    print(\"case 3. =\",i * 3)\n",
        "else:\n",
        "  print(\"case 4. =\",i)"
      ],
      "metadata": {
        "colab": {
          "base_uri": "https://localhost:8080/"
        },
        "id": "9JKso7_1MK_r",
        "outputId": "b4c1e787-c375-4e6b-ad42-18b771d0d9db"
      },
      "execution_count": null,
      "outputs": [
        {
          "output_type": "stream",
          "name": "stdout",
          "text": [
            "1.7\n",
            "case 2. = 3.4\n"
          ]
        }
      ]
    },
    {
      "cell_type": "markdown",
      "source": [
        "Assignment 4.1"
      ],
      "metadata": {
        "id": "LMpx8ZtSNcLp"
      }
    },
    {
      "cell_type": "code",
      "source": [
        "monthly = 6000000\n",
        "\n",
        "if monthly > 150000:\n",
        "  tax = 0\n",
        "  if monthly <= 300000:\n",
        "    tax = ((monthly - 150000)*0.05)\n",
        "  elif monthly <= 500000:\n",
        "    max = 150000 * 0.05\n",
        "    print(\"max=\", max)\n",
        "    tax = ((monthly - 300000)*0.1)+max\n",
        "  elif monthly <= 750000:  \n",
        "    max = ((500000 - 300000) * 0.1) + 7500\n",
        "    print(\"max=\", max)\n",
        "    tax = ((monthly - 500000)*0.15)+max\n",
        "  elif monthly <= 1000000: \n",
        "    max = ((750000 - 500000) * 0.15) + 27500\n",
        "    print(\"max=\", max)\n",
        "    tax = ((monthly - 750000)*0.20)+max\n",
        "  elif monthly <= 2000000: \n",
        "    max = ((1000000 - 750000) * 0.20) + 65000\n",
        "    print(\"max=\", max)\n",
        "    tax = ((monthly - 1000000)*0.25)+max\n",
        "  elif monthly <= 5000000: \n",
        "    max = ((2000000 - 1000000) * 0.25) + 115000\n",
        "    print(\"max=\", max)\n",
        "    tax = ((monthly - 2000000)*0.30)+max\n",
        "  else:\n",
        "    max = ( 5000000 - 2000000) * 0.30 + 365000\n",
        "    print(\"max=\", max)\n",
        "    tax = ((monthly - 5000000)*0.35)+max\n",
        "\n",
        "  print(\"Pay tax =\",tax)\n",
        "else:\n",
        "  print(\"Not pay tax.\")"
      ],
      "metadata": {
        "colab": {
          "base_uri": "https://localhost:8080/"
        },
        "id": "NIQBZEDdNept",
        "outputId": "b40d062d-4841-4f37-873c-fe9097a6b227"
      },
      "execution_count": 60,
      "outputs": [
        {
          "output_type": "stream",
          "name": "stdout",
          "text": [
            "max= 1265000.0\n",
            "Pay tax = 1615000.0\n"
          ]
        }
      ]
    },
    {
      "cell_type": "markdown",
      "source": [
        "Assigment5"
      ],
      "metadata": {
        "id": "GCEdjaFEqLGb"
      }
    },
    {
      "cell_type": "code",
      "source": [
        "for i in range(0,9):\n",
        "  j = i+1\n",
        "print(\"1.\", j)"
      ],
      "metadata": {
        "colab": {
          "base_uri": "https://localhost:8080/"
        },
        "id": "T0ODHsT1qNm3",
        "outputId": "b5bfe7ce-8c26-4ab7-cfcf-b0f262c6f57c"
      },
      "execution_count": 51,
      "outputs": [
        {
          "output_type": "stream",
          "name": "stdout",
          "text": [
            "1. 9\n"
          ]
        }
      ]
    },
    {
      "cell_type": "code",
      "source": [
        "for i in range(1, 11):\n",
        "  if i<=5:\n",
        "    j=i+2\n",
        "  else:\n",
        "    j=i+1\n",
        "print(\"2.\", j)"
      ],
      "metadata": {
        "colab": {
          "base_uri": "https://localhost:8080/"
        },
        "id": "3IVnkbwzqfbd",
        "outputId": "17d21934-100a-423f-eb0b-2f3be92893b8"
      },
      "execution_count": 52,
      "outputs": [
        {
          "output_type": "stream",
          "name": "stdout",
          "text": [
            "2. 11\n"
          ]
        }
      ]
    },
    {
      "cell_type": "code",
      "source": [
        "for i in range(1, 11):\n",
        "  print(\"Happy\")"
      ],
      "metadata": {
        "colab": {
          "base_uri": "https://localhost:8080/"
        },
        "id": "21A5YEErq9zd",
        "outputId": "32b86344-f440-4a31-ba21-faf14e83b68d"
      },
      "execution_count": 53,
      "outputs": [
        {
          "output_type": "stream",
          "name": "stdout",
          "text": [
            "Happy\n",
            "Happy\n",
            "Happy\n",
            "Happy\n",
            "Happy\n",
            "Happy\n",
            "Happy\n",
            "Happy\n",
            "Happy\n",
            "Happy\n"
          ]
        }
      ]
    },
    {
      "cell_type": "markdown",
      "source": [
        "Assingment6"
      ],
      "metadata": {
        "id": "t0pO6Wpy0Igj"
      }
    },
    {
      "cell_type": "code",
      "source": [
        "i = 1\n",
        "while i<10:\n",
        "    print(\"Happy\")\n",
        "    i=i+1"
      ],
      "metadata": {
        "colab": {
          "base_uri": "https://localhost:8080/"
        },
        "id": "cXBLAVp-0P98",
        "outputId": "e8e885cc-4360-47d0-d664-94b1c839c493"
      },
      "execution_count": 66,
      "outputs": [
        {
          "output_type": "stream",
          "name": "stdout",
          "text": [
            "Happy\n",
            "Happy\n",
            "Happy\n",
            "Happy\n",
            "Happy\n",
            "Happy\n",
            "Happy\n",
            "Happy\n",
            "Happy\n"
          ]
        }
      ]
    },
    {
      "cell_type": "code",
      "source": [
        "i=1\n",
        "while i>10:\n",
        "  if i<=5:\n",
        "    i=i+2\n",
        "  else:\n",
        "    i=i+1\n",
        "print(i*\"YMCA\")"
      ],
      "metadata": {
        "colab": {
          "base_uri": "https://localhost:8080/"
        },
        "id": "SHYR8i9L0g4-",
        "outputId": "677157d0-2b4c-4d9b-87e6-085294d94567"
      },
      "execution_count": 71,
      "outputs": [
        {
          "output_type": "stream",
          "name": "stdout",
          "text": [
            "YMCA\n"
          ]
        }
      ]
    }
  ]
}